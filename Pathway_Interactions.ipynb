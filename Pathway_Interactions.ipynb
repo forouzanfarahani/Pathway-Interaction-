{
  "nbformat": 4,
  "nbformat_minor": 0,
  "metadata": {
    "colab": {
      "name": "Pathway_Interactions.ipynb",
      "provenance": [],
      "collapsed_sections": [],
      "authorship_tag": "ABX9TyO5pcsFaegO6U2Urxeo1i4/",
      "include_colab_link": true
    },
    "kernelspec": {
      "display_name": "Python 3",
      "name": "python3"
    }
  },
  "cells": [
    {
      "cell_type": "markdown",
      "metadata": {
        "id": "view-in-github",
        "colab_type": "text"
      },
      "source": [
        "<a href=\"https://colab.research.google.com/github/forouzanfarahani/Pathway-Interaction-/blob/main/Pathway_Interactions.ipynb\" target=\"_parent\"><img src=\"https://colab.research.google.com/assets/colab-badge.svg\" alt=\"Open In Colab\"/></a>"
      ]
    },
    {
      "cell_type": "code",
      "metadata": {
        "colab": {
          "base_uri": "https://localhost:8080/"
        },
        "id": "9y-DZhAANMVn",
        "outputId": "9487dd0c-9e17-4c2a-a914-9bf0fba3efaa"
      },
      "source": [
        "#@title Run this code to install the package. \n",
        "# installing a package for reading .abf files\n",
        "%pip install --upgrade pyabf"
      ],
      "execution_count": null,
      "outputs": [
        {
          "output_type": "stream",
          "text": [
            "Collecting pyabf\n",
            "\u001b[?25l  Downloading https://files.pythonhosted.org/packages/4b/ac/bf71b3f2adfe56f813dd167604093f6af40be6f16c77b55f2a9eaeaa00e8/pyabf-2.2.8.tar.gz (42kB)\n",
            "\r\u001b[K     |███████▊                        | 10kB 17.1MB/s eta 0:00:01\r\u001b[K     |███████████████▍                | 20kB 10.4MB/s eta 0:00:01\r\u001b[K     |███████████████████████         | 30kB 8.1MB/s eta 0:00:01\r\u001b[K     |██████████████████████████████▊ | 40kB 7.1MB/s eta 0:00:01\r\u001b[K     |████████████████████████████████| 51kB 3.0MB/s \n",
            "\u001b[?25hRequirement already satisfied, skipping upgrade: matplotlib>=2.1.0 in /usr/local/lib/python3.6/dist-packages (from pyabf) (3.2.2)\n",
            "Requirement already satisfied, skipping upgrade: numpy>=1.13.3 in /usr/local/lib/python3.6/dist-packages (from pyabf) (1.19.4)\n",
            "Requirement already satisfied, skipping upgrade: pytest>=3.0.7 in /usr/local/lib/python3.6/dist-packages (from pyabf) (3.6.4)\n",
            "Requirement already satisfied, skipping upgrade: kiwisolver>=1.0.1 in /usr/local/lib/python3.6/dist-packages (from matplotlib>=2.1.0->pyabf) (1.3.1)\n",
            "Requirement already satisfied, skipping upgrade: pyparsing!=2.0.4,!=2.1.2,!=2.1.6,>=2.0.1 in /usr/local/lib/python3.6/dist-packages (from matplotlib>=2.1.0->pyabf) (2.4.7)\n",
            "Requirement already satisfied, skipping upgrade: python-dateutil>=2.1 in /usr/local/lib/python3.6/dist-packages (from matplotlib>=2.1.0->pyabf) (2.8.1)\n",
            "Requirement already satisfied, skipping upgrade: cycler>=0.10 in /usr/local/lib/python3.6/dist-packages (from matplotlib>=2.1.0->pyabf) (0.10.0)\n",
            "Requirement already satisfied, skipping upgrade: atomicwrites>=1.0 in /usr/local/lib/python3.6/dist-packages (from pytest>=3.0.7->pyabf) (1.4.0)\n",
            "Requirement already satisfied, skipping upgrade: more-itertools>=4.0.0 in /usr/local/lib/python3.6/dist-packages (from pytest>=3.0.7->pyabf) (8.6.0)\n",
            "Requirement already satisfied, skipping upgrade: pluggy<0.8,>=0.5 in /usr/local/lib/python3.6/dist-packages (from pytest>=3.0.7->pyabf) (0.7.1)\n",
            "Requirement already satisfied, skipping upgrade: six>=1.10.0 in /usr/local/lib/python3.6/dist-packages (from pytest>=3.0.7->pyabf) (1.15.0)\n",
            "Requirement already satisfied, skipping upgrade: attrs>=17.4.0 in /usr/local/lib/python3.6/dist-packages (from pytest>=3.0.7->pyabf) (20.3.0)\n",
            "Requirement already satisfied, skipping upgrade: py>=1.5.0 in /usr/local/lib/python3.6/dist-packages (from pytest>=3.0.7->pyabf) (1.10.0)\n",
            "Requirement already satisfied, skipping upgrade: setuptools in /usr/local/lib/python3.6/dist-packages (from pytest>=3.0.7->pyabf) (51.0.0)\n",
            "Building wheels for collected packages: pyabf\n",
            "  Building wheel for pyabf (setup.py) ... \u001b[?25l\u001b[?25hdone\n",
            "  Created wheel for pyabf: filename=pyabf-2.2.8-cp36-none-any.whl size=47650 sha256=b32a7a7db1e84ad71591699e1ee15f30146474919f743e70989c00e93ae9b171\n",
            "  Stored in directory: /root/.cache/pip/wheels/d6/f5/00/be17ca092e5e11c1a65af2424ebb3bf7040ab3bfb49e6e17f7\n",
            "Successfully built pyabf\n",
            "Installing collected packages: pyabf\n",
            "Successfully installed pyabf-2.2.8\n"
          ],
          "name": "stdout"
        }
      ]
    },
    {
      "cell_type": "code",
      "metadata": {
        "id": "iLfFJDxC7Vz2"
      },
      "source": [
        "from scipy.optimize import curve_fit\n",
        "import numpy as np\n",
        "import pyabf\n",
        "import os\n",
        "import warnings\n",
        "warnings.filterwarnings(\"ignore\")\n",
        "import glob\n",
        "import pandas as pd"
      ],
      "execution_count": null,
      "outputs": []
    },
    {
      "cell_type": "code",
      "metadata": {
        "id": "046uPq-sCYgN"
      },
      "source": [
        "#@title import matplotlib and set defaults\r\n",
        "from plotly import __version__\r\n",
        "%matplotlib inline\r\n",
        "\r\n",
        "import plotly.offline as pyo\r\n",
        "import plotly.graph_objs as go\r\n",
        "from plotly.offline import iplot\r\n",
        "\r\n",
        "import cufflinks as cf\r\n",
        "from plotly.offline import download_plotlyjs, init_notebook_mode, plot, iplot \r\n",
        "\r\n",
        "\r\n",
        "cf.go_offline()\r\n",
        "init_notebook_mode(connected=False)\r\n",
        "\r\n",
        "def configure_plotly_browser_state():\r\n",
        "  import IPython\r\n",
        "  display(IPython.core.display.HTML('''\r\n",
        "        <script src=\"/static/components/requirejs/require.js\"></script>\r\n",
        "        <script>\r\n",
        "          requirejs.config({\r\n",
        "            paths: {\r\n",
        "              base: '/static/base',\r\n",
        "              plotly: 'https://cdn.plot.ly/plotly-1.5.1.min.js?noext',\r\n",
        "            },\r\n",
        "          });\r\n",
        "        </script>\r\n",
        "        '''))"
      ],
      "execution_count": null,
      "outputs": []
    },
    {
      "cell_type": "code",
      "metadata": {
        "id": "aHURDIU7S3eS"
      },
      "source": [
        "#@title\r\n",
        "def artifcat_removal(x_in, start, end):\r\n",
        "  x_out = x_in.copy()\r\n",
        "  from scipy.interpolate import interp1d\r\n",
        "  xq = np.arange(start,end)\r\n",
        "  f =  interp1d(np.array([start,end]),x_in[[start, end]],kind='linear')\r\n",
        "  x_out[xq] = x_out[xq] - f(xq)\r\n",
        "  return x_out\r\n",
        "\r\n",
        "\r\n",
        "def manual_manip_cathodal(signal_in, address):\r\n",
        "  f = 20000\r\n",
        "  x_in = signal_in.copy()\r\n",
        "  # if address== '/content/drive/My Drive/Pathway Interaction Project/Raw Data/21107003.abf' :\r\n",
        "  #   start = f*1.02\r\n",
        "  #   end = f*1.57\r\n",
        "  #   signal_ = artifcat_removal(x_in, start, end)    \r\n",
        "  #   start = f*1.57\r\n",
        "  #   end = f*1.99\r\n",
        "  #   signal_out = artifcat_removal(signal_, start, end)\r\n",
        "  start = f*1.02\r\n",
        "  end = f*1.57\r\n",
        "  signal_ = artifcat_removal(x_in, start, end)    \r\n",
        "  start = f*1.57\r\n",
        "  end = f*1.99\r\n",
        "  signal_out = artifcat_removal(signal_, start, end)\r\n",
        "  return signal_out\r\n",
        "\r\n",
        "def manual_manip_anodal(signal_in, address):\r\n",
        "  f = 20000\r\n",
        "  x_in = signal_in.copy()\r\n",
        "  start = f*1.02\r\n",
        "  end = f*1.99\r\n",
        "  signal_out = artifcat_removal(x_in, start, end)\r\n",
        "  return signal_out"
      ],
      "execution_count": null,
      "outputs": []
    },
    {
      "cell_type": "code",
      "metadata": {
        "colab": {
          "base_uri": "https://localhost:8080/"
        },
        "id": "R9mIb8VtQ-h7",
        "outputId": "4ccde4a2-11da-4117-e640-b489f605a2da"
      },
      "source": [
        "#Now, let's link to your GoogleDrive. Run this cell and follow the authorization instructions:\n",
        "#(We recommend putting a copy of the github repo in your google drive if you are using the demo \"examples\")\n",
        "\n",
        "from google.colab import drive\n",
        "drive.mount('/content/drive')"
      ],
      "execution_count": null,
      "outputs": [
        {
          "output_type": "stream",
          "text": [
            "Mounted at /content/drive\n"
          ],
          "name": "stdout"
        }
      ]
    },
    {
      "cell_type": "code",
      "metadata": {
        "id": "uc2rgt-JRQw2"
      },
      "source": [
        "#Setup your project variables:\n",
        "# PLEASE EDIT THESE:\n",
        "  \n",
        "ProjectFolderName = 'Pathway Interaction Project'\n",
        "\n",
        "#don't edit these:\n",
        "data_path = '/content/drive/My Drive/Pathway Interaction Project/Raw Data/' #Enter the list of videos or folder to analyze.\n",
        "#!ls \"/content/drive/My Drive/Pathway Interaction Project/Raw Data/\""
      ],
      "execution_count": null,
      "outputs": []
    },
    {
      "cell_type": "code",
      "metadata": {
        "id": "dDu0QomwMplb"
      },
      "source": [
        "# getting list of \n",
        "data_files = glob.glob(\"/content/drive/My Drive/Pathway Interaction Project/Raw Data/*.abf\")"
      ],
      "execution_count": null,
      "outputs": []
    },
    {
      "cell_type": "code",
      "metadata": {
        "id": "C39m-rOVIIs6"
      },
      "source": [
        "abf = pyabf.ABF(data_files[-95])\r\n",
        "df = pd.DataFrame({\r\n",
        "    'time': abf.sweepX, \r\n",
        "    'voltage': abf.sweepY\r\n",
        "}\r\n",
        ")"
      ],
      "execution_count": null,
      "outputs": []
    },
    {
      "cell_type": "code",
      "metadata": {
        "id": "VT4wHup98y_N"
      },
      "source": [
        "configure_plotly_browser_state()\r\n",
        "\r\n",
        "idx = []\r\n",
        "EPSP_slope = {'control': [], 'anodal': [], 'cathodal': []}\r\n",
        "\r\n",
        "for sweepNumber in abf.sweepList[0:2]:   \r\n",
        "    abf.setSweep(sweepNumber)\r\n",
        "    df.iplot(kind='line',x='time',y='voltage', color=['white'], \r\n",
        "theme='solar', mode='lines',title='membrane potential')\r\n",
        "print(abf.sweepList[-1])"
      ],
      "execution_count": null,
      "outputs": []
    },
    {
      "cell_type": "code",
      "metadata": {
        "id": "PZW1AN_mNpVc"
      },
      "source": [
        "print(abf.headerText) # display header information in the console\r\n",
        "abf.headerLaunch() # display header information in a web browser"
      ],
      "execution_count": null,
      "outputs": []
    },
    {
      "cell_type": "code",
      "metadata": {
        "id": "i0mMxbprwoYP"
      },
      "source": [
        "address_book = pd.read_excel('/content/drive/My Drive/Pathway Interaction Project/data_list.xlsx')\r\n",
        "path_keys ={'TBS-SC','TBS-EC'}\r\n",
        "address =  {}\r\n",
        "for path_key in path_keys:\r\n",
        "  address[path_key] = address_book[path_key]\r\n",
        "  "
      ],
      "execution_count": null,
      "outputs": []
    },
    {
      "cell_type": "code",
      "metadata": {
        "colab": {
          "base_uri": "https://localhost:8080/",
          "height": 350
        },
        "id": "-mWkjst3Ll9Y",
        "outputId": "80c49e3f-28c1-44f4-98f0-0e0dbbd8a968"
      },
      "source": [
        "\r\n",
        "\r\n",
        "abf = pyabf.ABF(address['TBS-EC'][15])\r\n",
        "df = pd.DataFrame({\r\n",
        "    'time': abf.sweepX,    \r\n",
        "}\r\n",
        ")\r\n",
        "sweeps = []\r\n",
        "for sweepNumber in abf.sweepList:\r\n",
        "    abf.setSweep(sweepNumber)\r\n",
        "    df['sweep_'+str(sweepNumber)] = abf.sweepY\r\n",
        "    sweeps.append('sweep_'+str(sweepNumber))\r\n"
      ],
      "execution_count": null,
      "outputs": [
        {
          "output_type": "error",
          "ename": "ValueError",
          "evalue": "ignored",
          "traceback": [
            "\u001b[0;31m---------------------------------------------------------------------------\u001b[0m",
            "\u001b[0;31mValueError\u001b[0m                                Traceback (most recent call last)",
            "\u001b[0;32m<ipython-input-89-c7c0cb6bde6c>\u001b[0m in \u001b[0;36m<module>\u001b[0;34m()\u001b[0m\n\u001b[1;32m      1\u001b[0m \u001b[0;34m\u001b[0m\u001b[0m\n\u001b[1;32m      2\u001b[0m \u001b[0;34m\u001b[0m\u001b[0m\n\u001b[0;32m----> 3\u001b[0;31m \u001b[0mabf\u001b[0m \u001b[0;34m=\u001b[0m \u001b[0mpyabf\u001b[0m\u001b[0;34m.\u001b[0m\u001b[0mABF\u001b[0m\u001b[0;34m(\u001b[0m\u001b[0maddress\u001b[0m\u001b[0;34m[\u001b[0m\u001b[0;34m'TBS-EC'\u001b[0m\u001b[0;34m]\u001b[0m\u001b[0;34m[\u001b[0m\u001b[0;36m15\u001b[0m\u001b[0;34m]\u001b[0m\u001b[0;34m)\u001b[0m\u001b[0;34m\u001b[0m\u001b[0;34m\u001b[0m\u001b[0m\n\u001b[0m\u001b[1;32m      4\u001b[0m df = pd.DataFrame({\n\u001b[1;32m      5\u001b[0m     \u001b[0;34m'time'\u001b[0m\u001b[0;34m:\u001b[0m \u001b[0mabf\u001b[0m\u001b[0;34m.\u001b[0m\u001b[0msweepX\u001b[0m\u001b[0;34m,\u001b[0m\u001b[0;34m\u001b[0m\u001b[0;34m\u001b[0m\u001b[0m\n",
            "\u001b[0;32m/usr/local/lib/python3.6/dist-packages/pyabf/abf.py\u001b[0m in \u001b[0;36m__init__\u001b[0;34m(self, abfFilePath, loadData, cacheStimulusFiles, stimulusFileFolder)\u001b[0m\n\u001b[1;32m     72\u001b[0m \u001b[0;34m\u001b[0m\u001b[0m\n\u001b[1;32m     73\u001b[0m         \u001b[0;32mif\u001b[0m \u001b[0;32mnot\u001b[0m \u001b[0mos\u001b[0m\u001b[0;34m.\u001b[0m\u001b[0mpath\u001b[0m\u001b[0;34m.\u001b[0m\u001b[0mexists\u001b[0m\u001b[0;34m(\u001b[0m\u001b[0mself\u001b[0m\u001b[0;34m.\u001b[0m\u001b[0mabfFilePath\u001b[0m\u001b[0;34m)\u001b[0m\u001b[0;34m:\u001b[0m\u001b[0;34m\u001b[0m\u001b[0;34m\u001b[0m\u001b[0m\n\u001b[0;32m---> 74\u001b[0;31m             \u001b[0;32mraise\u001b[0m \u001b[0mValueError\u001b[0m\u001b[0;34m(\u001b[0m\u001b[0;34m\"ABF file does not exist: %s\"\u001b[0m \u001b[0;34m%\u001b[0m \u001b[0mself\u001b[0m\u001b[0;34m.\u001b[0m\u001b[0mabfFilePath\u001b[0m\u001b[0;34m)\u001b[0m\u001b[0;34m\u001b[0m\u001b[0;34m\u001b[0m\u001b[0m\n\u001b[0m\u001b[1;32m     75\u001b[0m         \u001b[0mself\u001b[0m\u001b[0;34m.\u001b[0m\u001b[0mabfID\u001b[0m \u001b[0;34m=\u001b[0m \u001b[0mos\u001b[0m\u001b[0;34m.\u001b[0m\u001b[0mpath\u001b[0m\u001b[0;34m.\u001b[0m\u001b[0msplitext\u001b[0m\u001b[0;34m(\u001b[0m\u001b[0mos\u001b[0m\u001b[0;34m.\u001b[0m\u001b[0mpath\u001b[0m\u001b[0;34m.\u001b[0m\u001b[0mbasename\u001b[0m\u001b[0;34m(\u001b[0m\u001b[0mself\u001b[0m\u001b[0;34m.\u001b[0m\u001b[0mabfFilePath\u001b[0m\u001b[0;34m)\u001b[0m\u001b[0;34m)\u001b[0m\u001b[0;34m[\u001b[0m\u001b[0;36m0\u001b[0m\u001b[0;34m]\u001b[0m\u001b[0;34m\u001b[0m\u001b[0;34m\u001b[0m\u001b[0m\n\u001b[1;32m     76\u001b[0m         \u001b[0mlog\u001b[0m\u001b[0;34m.\u001b[0m\u001b[0mdebug\u001b[0m\u001b[0;34m(\u001b[0m\u001b[0mself\u001b[0m\u001b[0;34m.\u001b[0m\u001b[0m__repr__\u001b[0m\u001b[0;34m(\u001b[0m\u001b[0;34m)\u001b[0m\u001b[0;34m)\u001b[0m\u001b[0;34m\u001b[0m\u001b[0;34m\u001b[0m\u001b[0m\n",
            "\u001b[0;31mValueError\u001b[0m: ABF file does not exist: /content/drive/My Drive/Pathway Interaction Project/Raw Data/20n18006.abf    /content/drive/My Drive/Pathway Interaction Project/Raw Data/20n18001.abf"
          ]
        }
      ]
    },
    {
      "cell_type": "code",
      "metadata": {
        "id": "Bs8sf5U5Nx9Q"
      },
      "source": [
        "configure_plotly_browser_state()\r\n",
        "\r\n",
        "idx = []\r\n",
        "EPSP_slope = {'control': [], 'anodal': [], 'cathodal': []}\r\n",
        "\r\n",
        "  \r\n",
        "df.iplot(kind='line',x='time',y=['sweep_1','sweep_5',], color=['white'], theme='solar', mode='lines',title='membrane potential')\r\n",
        "    "
      ],
      "execution_count": null,
      "outputs": []
    },
    {
      "cell_type": "code",
      "metadata": {
        "id": "Y8yYn5sSQNtg"
      },
      "source": [
        ""
      ],
      "execution_count": null,
      "outputs": []
    }
  ]
}